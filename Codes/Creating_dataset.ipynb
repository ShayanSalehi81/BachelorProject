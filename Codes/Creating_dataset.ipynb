{
 "cells": [
  {
   "cell_type": "code",
   "execution_count": 1,
   "metadata": {},
   "outputs": [],
   "source": [
    "import numpy as np\n",
    "import pandas as pd"
   ]
  },
  {
   "cell_type": "markdown",
   "metadata": {},
   "source": [
    "## *CSV Dataset*"
   ]
  },
  {
   "cell_type": "code",
   "execution_count": null,
   "metadata": {},
   "outputs": [],
   "source": [
    "test_df = pd.read_csv('../Datasets/test.csv')\n",
    "test_df.head(5)"
   ]
  },
  {
   "cell_type": "code",
   "execution_count": null,
   "metadata": {},
   "outputs": [],
   "source": [
    "result_df = pd.DataFrame({\n",
    "    'text': test_df['title'],\n",
    "    'text_type': ['only_title'] * len(test_df),\n",
    "    'real_tag': test_df['tag'],\n",
    "    'predicted_k_0': np.nan,\n",
    "    'predicted_k_1': np.nan,\n",
    "    'predicted_k_2': np.nan,\n",
    "    'predicted_k_3': np.nan,\n",
    "    'predicted_k_4': np.nan,\n",
    "    'predicted_k_5': np.nan,\n",
    "    'predicted_k_10': np.nan,\n",
    "    'predicted_k_20': np.nan,\n",
    "    'predicted_k_50': np.nan\n",
    "})\n",
    "result_df.head(5)"
   ]
  },
  {
   "cell_type": "code",
   "execution_count": 4,
   "metadata": {},
   "outputs": [],
   "source": [
    "result_df.to_csv('../Datasets/System_User_Persian_Prompt_Aya_Results.csv', index=False)"
   ]
  },
  {
   "cell_type": "markdown",
   "metadata": {},
   "source": [
    "## *Excel Categorized Dataset*"
   ]
  },
  {
   "cell_type": "code",
   "execution_count": null,
   "metadata": {},
   "outputs": [],
   "source": [
    "test_df = pd.read_excel('../Datasets/test_bert_cat.xlsx')\n",
    "test_df.tail(5)"
   ]
  },
  {
   "cell_type": "code",
   "execution_count": null,
   "metadata": {},
   "outputs": [],
   "source": [
    "result_df = pd.DataFrame({\n",
    "    'text': test_df['title'],\n",
    "    'text_type': ['title'] * len(test_df),\n",
    "    'real_tag': test_df['tag'],\n",
    "    'category': test_df['category'],\n",
    "    'predicted_k_0': np.nan,\n",
    "    'predicted_k_1': np.nan,\n",
    "    'predicted_k_2': np.nan,\n",
    "    'predicted_k_3': np.nan,\n",
    "    'predicted_k_4': np.nan,\n",
    "    'predicted_k_5': np.nan,\n",
    "    'predicted_k_10': np.nan,\n",
    "    'predicted_k_20': np.nan,\n",
    "    'predicted_k_50': np.nan\n",
    "})\n",
    "result_df.head(5)"
   ]
  },
  {
   "cell_type": "code",
   "execution_count": 4,
   "metadata": {},
   "outputs": [],
   "source": [
    "result_df.to_csv('../Datasets/System_User_Prompt_Title_Sport.csv', index=False)"
   ]
  },
  {
   "cell_type": "markdown",
   "metadata": {},
   "source": [
    "## *Convert to Categorized*"
   ]
  },
  {
   "cell_type": "code",
   "execution_count": null,
   "metadata": {},
   "outputs": [],
   "source": [
    "result_df = pd.read_csv('../Datasets/System_User_Prompt_Full_Text.csv')\n",
    "result_df.tail(5)"
   ]
  },
  {
   "cell_type": "code",
   "execution_count": null,
   "metadata": {},
   "outputs": [],
   "source": [
    "final_df = pd.DataFrame({\n",
    "    'text': result_df['text'],\n",
    "    'text_type': ['full_text'] * len(result_df),\n",
    "    'real_tag': result_df['real_tag'],\n",
    "    'category': test_df['category'],\n",
    "    'predicted_k_0': np.nan,\n",
    "    'predicted_k_1': np.nan,\n",
    "    'predicted_k_2': np.nan,\n",
    "    'predicted_k_3': np.nan,\n",
    "    'predicted_k_4': np.nan,\n",
    "    'predicted_k_5': np.nan,\n",
    "    'predicted_k_10': np.nan,\n",
    "    'predicted_k_20': result_df['predicted_k_20'],\n",
    "    'predicted_k_50': np.nan\n",
    "})\n",
    "final_df.head(5)"
   ]
  },
  {
   "cell_type": "code",
   "execution_count": 8,
   "metadata": {},
   "outputs": [],
   "source": [
    "final_df.to_csv('../Datasets/System_User_Prompt_Full_Text_Categorized.csv', index=False)"
   ]
  }
 ],
 "metadata": {
  "kernelspec": {
   "display_name": "Python 3",
   "language": "python",
   "name": "python3"
  },
  "language_info": {
   "codemirror_mode": {
    "name": "ipython",
    "version": 3
   },
   "file_extension": ".py",
   "mimetype": "text/x-python",
   "name": "python",
   "nbconvert_exporter": "python",
   "pygments_lexer": "ipython3",
   "version": "3.11.9"
  }
 },
 "nbformat": 4,
 "nbformat_minor": 2
}
