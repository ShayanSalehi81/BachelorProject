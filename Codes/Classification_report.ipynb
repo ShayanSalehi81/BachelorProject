{
 "cells": [
  {
   "cell_type": "code",
   "execution_count": 70,
   "metadata": {},
   "outputs": [],
   "source": [
    "import pandas as pd\n",
    "\n",
    "from sklearn.metrics import classification_report\n",
    "from sklearn.metrics import accuracy_score, precision_score, recall_score, f1_score"
   ]
  },
  {
   "cell_type": "code",
   "execution_count": 71,
   "metadata": {},
   "outputs": [],
   "source": [
    "def map_labels(x):\n",
    "    if x == 'important' or x == '\\'important\\'' or x == '1' or x == '\\'1\\'':\n",
    "        return 1\n",
    "    elif x == 'not important' or x == '\\'not important\\'' or x == '0' or x == '\\'0\\'':\n",
    "        return 0\n",
    "    return x"
   ]
  },
  {
   "cell_type": "code",
   "execution_count": 72,
   "metadata": {},
   "outputs": [],
   "source": [
    "aya_df = pd.read_csv('../Datasets/System_User_Prompt_Aya_Numbered_Results.csv')\n",
    "# columns_to_evaluate = ['predicted_k_0', 'predicted_k_1', 'predicted_k_5', 'predicted_k_20', 'predicted_k_50']\n",
    "columns_to_evaluate = ['predicted_k_20']"
   ]
  },
  {
   "cell_type": "code",
   "execution_count": 73,
   "metadata": {},
   "outputs": [
    {
     "data": {
      "text/html": [
       "<div>\n",
       "<style scoped>\n",
       "    .dataframe tbody tr th:only-of-type {\n",
       "        vertical-align: middle;\n",
       "    }\n",
       "\n",
       "    .dataframe tbody tr th {\n",
       "        vertical-align: top;\n",
       "    }\n",
       "\n",
       "    .dataframe thead th {\n",
       "        text-align: right;\n",
       "    }\n",
       "</style>\n",
       "<table border=\"1\" class=\"dataframe\">\n",
       "  <thead>\n",
       "    <tr style=\"text-align: right;\">\n",
       "      <th></th>\n",
       "      <th>text</th>\n",
       "      <th>text_type</th>\n",
       "      <th>real_tag</th>\n",
       "      <th>predicted_k_0</th>\n",
       "      <th>predicted_k_1</th>\n",
       "      <th>predicted_k_2</th>\n",
       "      <th>predicted_k_3</th>\n",
       "      <th>predicted_k_4</th>\n",
       "      <th>predicted_k_5</th>\n",
       "      <th>predicted_k_10</th>\n",
       "      <th>predicted_k_20</th>\n",
       "      <th>predicted_k_50</th>\n",
       "    </tr>\n",
       "  </thead>\n",
       "  <tbody>\n",
       "    <tr>\n",
       "      <th>0</th>\n",
       "      <td>واکنش کنسولگری ایران در استانبول به ریجکت شدن ...</td>\n",
       "      <td>only_title</td>\n",
       "      <td>0</td>\n",
       "      <td>NaN</td>\n",
       "      <td>NaN</td>\n",
       "      <td>NaN</td>\n",
       "      <td>NaN</td>\n",
       "      <td>NaN</td>\n",
       "      <td>NaN</td>\n",
       "      <td>NaN</td>\n",
       "      <td>0</td>\n",
       "      <td>NaN</td>\n",
       "    </tr>\n",
       "    <tr>\n",
       "      <th>1</th>\n",
       "      <td>برگزاری دادگاه پرونده کثیرالشاکی شرکت کاغذی «آ...</td>\n",
       "      <td>only_title</td>\n",
       "      <td>0</td>\n",
       "      <td>NaN</td>\n",
       "      <td>NaN</td>\n",
       "      <td>NaN</td>\n",
       "      <td>NaN</td>\n",
       "      <td>NaN</td>\n",
       "      <td>NaN</td>\n",
       "      <td>NaN</td>\n",
       "      <td>0</td>\n",
       "      <td>NaN</td>\n",
       "    </tr>\n",
       "    <tr>\n",
       "      <th>2</th>\n",
       "      <td>خبر جدید وزیر بهداشت درباره بازگشایی مدارس در ...</td>\n",
       "      <td>only_title</td>\n",
       "      <td>1</td>\n",
       "      <td>NaN</td>\n",
       "      <td>NaN</td>\n",
       "      <td>NaN</td>\n",
       "      <td>NaN</td>\n",
       "      <td>NaN</td>\n",
       "      <td>NaN</td>\n",
       "      <td>NaN</td>\n",
       "      <td>0</td>\n",
       "      <td>NaN</td>\n",
       "    </tr>\n",
       "    <tr>\n",
       "      <th>3</th>\n",
       "      <td>شکایت باشگاه استقلال از عیسی آل کثیر</td>\n",
       "      <td>only_title</td>\n",
       "      <td>1</td>\n",
       "      <td>NaN</td>\n",
       "      <td>NaN</td>\n",
       "      <td>NaN</td>\n",
       "      <td>NaN</td>\n",
       "      <td>NaN</td>\n",
       "      <td>NaN</td>\n",
       "      <td>NaN</td>\n",
       "      <td>0</td>\n",
       "      <td>NaN</td>\n",
       "    </tr>\n",
       "    <tr>\n",
       "      <th>4</th>\n",
       "      <td>دولت فرانسه مسئول عواقب اهانت بی‌شرمانه علیه م...</td>\n",
       "      <td>only_title</td>\n",
       "      <td>0</td>\n",
       "      <td>NaN</td>\n",
       "      <td>NaN</td>\n",
       "      <td>NaN</td>\n",
       "      <td>NaN</td>\n",
       "      <td>NaN</td>\n",
       "      <td>NaN</td>\n",
       "      <td>NaN</td>\n",
       "      <td>0</td>\n",
       "      <td>NaN</td>\n",
       "    </tr>\n",
       "  </tbody>\n",
       "</table>\n",
       "</div>"
      ],
      "text/plain": [
       "                                                text   text_type  real_tag  \\\n",
       "0  واکنش کنسولگری ایران در استانبول به ریجکت شدن ...  only_title         0   \n",
       "1  برگزاری دادگاه پرونده کثیرالشاکی شرکت کاغذی «آ...  only_title         0   \n",
       "2  خبر جدید وزیر بهداشت درباره بازگشایی مدارس در ...  only_title         1   \n",
       "3               شکایت باشگاه استقلال از عیسی آل کثیر  only_title         1   \n",
       "4  دولت فرانسه مسئول عواقب اهانت بی‌شرمانه علیه م...  only_title         0   \n",
       "\n",
       "   predicted_k_0  predicted_k_1  predicted_k_2  predicted_k_3  predicted_k_4  \\\n",
       "0            NaN            NaN            NaN            NaN            NaN   \n",
       "1            NaN            NaN            NaN            NaN            NaN   \n",
       "2            NaN            NaN            NaN            NaN            NaN   \n",
       "3            NaN            NaN            NaN            NaN            NaN   \n",
       "4            NaN            NaN            NaN            NaN            NaN   \n",
       "\n",
       "   predicted_k_5  predicted_k_10 predicted_k_20  predicted_k_50  \n",
       "0            NaN             NaN              0             NaN  \n",
       "1            NaN             NaN              0             NaN  \n",
       "2            NaN             NaN              0             NaN  \n",
       "3            NaN             NaN              0             NaN  \n",
       "4            NaN             NaN              0             NaN  "
      ]
     },
     "execution_count": 73,
     "metadata": {},
     "output_type": "execute_result"
    }
   ],
   "source": [
    "aya_df.head(5)"
   ]
  },
  {
   "cell_type": "code",
   "execution_count": 74,
   "metadata": {},
   "outputs": [],
   "source": [
    "aya_df['real_tag'] = aya_df['real_tag'].apply(map_labels)\n",
    "for column in columns_to_evaluate:\n",
    "    aya_df[column] = aya_df[column].apply(map_labels)"
   ]
  },
  {
   "cell_type": "code",
   "execution_count": 75,
   "metadata": {},
   "outputs": [
    {
     "name": "stdout",
     "output_type": "stream",
     "text": [
      "  Number of true '1' labels: 77\n",
      "  Number of true '0' labels: 324\n"
     ]
    }
   ],
   "source": [
    "true_labels = aya_df['real_tag'].dropna()\n",
    "true_labels_first_400 = aya_df['real_tag'].dropna().iloc[:401]\n",
    "\n",
    "num_true1 = (true_labels_first_400 == 1).sum()\n",
    "num_true0 = (true_labels_first_400 == 0).sum()\n",
    "\n",
    "# num_true1 = (true_labels == 1).sum()\n",
    "# num_true0 = (true_labels == 0).sum()\n",
    "\n",
    "print(f\"  Number of true '1' labels: {num_true1}\")\n",
    "print(f\"  Number of true '0' labels: {num_true0}\")"
   ]
  },
  {
   "cell_type": "code",
   "execution_count": 76,
   "metadata": {},
   "outputs": [
    {
     "name": "stdout",
     "output_type": "stream",
     "text": [
      "Metrics for column predicted_k_20:\n",
      "  Accuracy: 0.80\n",
      "  Precision: 0.48\n",
      "  Recall: 0.43\n",
      "  F1 Score: 0.45\n",
      "  Number of '58' labels: 69\n",
      "  Number of '47' labels: 332\n",
      "\n",
      "\n"
     ]
    }
   ],
   "source": [
    "for column in columns_to_evaluate:\n",
    "\n",
    "    pred_labels = aya_df[column].dropna()\n",
    "\n",
    "    common_indices = true_labels.index.intersection(pred_labels.index)\n",
    "\n",
    "    true_labels = true_labels.loc[common_indices]\n",
    "    pred_labels = pred_labels.loc[common_indices]\n",
    "\n",
    "    # for label in pred_labels:\n",
    "    #     print(label)\n",
    "\n",
    "    accuracy = accuracy_score(true_labels, pred_labels)\n",
    "    precision = precision_score(true_labels, pred_labels)\n",
    "    recall = recall_score(true_labels, pred_labels)\n",
    "    f1 = f1_score(true_labels, pred_labels)\n",
    "\n",
    "    num_58 = (aya_df[column] == 1).sum()\n",
    "    num_47 = (aya_df[column] == 0).sum()\n",
    "\n",
    "    print(f\"Metrics for column {column}:\")\n",
    "    print(f\"  Accuracy: {accuracy:.2f}\")\n",
    "    print(f\"  Precision: {precision:.2f}\")\n",
    "    print(f\"  Recall: {recall:.2f}\")\n",
    "    print(f\"  F1 Score: {f1:.2f}\")\n",
    "    print(f\"  Number of '58' labels: {num_58}\")\n",
    "    print(f\"  Number of '47' labels: {num_47}\")\n",
    "    print(\"\\n\")\n"
   ]
  },
  {
   "cell_type": "code",
   "execution_count": 77,
   "metadata": {},
   "outputs": [
    {
     "name": "stdout",
     "output_type": "stream",
     "text": [
      "Metrics for column predicted_k_20:\n",
      "              precision    recall  f1-score   support\n",
      "\n",
      "           0       0.87      0.89      0.88       324\n",
      "           1       0.48      0.43      0.45        77\n",
      "\n",
      "    accuracy                           0.80       401\n",
      "   macro avg       0.67      0.66      0.67       401\n",
      "weighted avg       0.79      0.80      0.80       401\n",
      "\n",
      "  Number of '1' labels: 69\n",
      "  Number of '0' labels: 332\n",
      "\n",
      "\n"
     ]
    }
   ],
   "source": [
    "for column in columns_to_evaluate:\n",
    "\n",
    "    pred_labels = aya_df[column].dropna()\n",
    "\n",
    "    common_indices = true_labels.index.intersection(pred_labels.index)\n",
    "    true_labels_common = true_labels.loc[common_indices]\n",
    "    pred_labels_common = pred_labels.loc[common_indices]\n",
    "\n",
    "    print(f\"Metrics for column {column}:\")\n",
    "\n",
    "    report = classification_report(true_labels_common, pred_labels_common, target_names=['0', '1'])\n",
    "    print(report)\n",
    "\n",
    "    num_1 = (aya_df[column] == 1).sum()\n",
    "    num_0 = (aya_df[column] == 0).sum()\n",
    "\n",
    "    print(f\"  Number of '1' labels: {num_58}\")\n",
    "    print(f\"  Number of '0' labels: {num_47}\")\n",
    "    print(\"\\n\")"
   ]
  }
 ],
 "metadata": {
  "kernelspec": {
   "display_name": "Python 3",
   "language": "python",
   "name": "python3"
  },
  "language_info": {
   "codemirror_mode": {
    "name": "ipython",
    "version": 3
   },
   "file_extension": ".py",
   "mimetype": "text/x-python",
   "name": "python",
   "nbconvert_exporter": "python",
   "pygments_lexer": "ipython3",
   "version": "3.11.9"
  }
 },
 "nbformat": 4,
 "nbformat_minor": 2
}
